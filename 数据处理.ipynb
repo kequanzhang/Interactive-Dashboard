{
 "cells": [
  {
   "cell_type": "code",
   "execution_count": 2,
   "id": "c6c1ec7a",
   "metadata": {},
   "outputs": [],
   "source": [
    "import pandas as pd\n",
    "data=pd.read_csv(\"C:/Users/25160/Desktop/ginf.csv\")"
   ]
  },
  {
   "cell_type": "code",
   "execution_count": 62,
   "id": "1d924940",
   "metadata": {},
   "outputs": [],
   "source": [
    "d1=data[(data[\"league\"]==\"D1\")&(data[\"season\"]==2012)]"
   ]
  },
  {
   "cell_type": "code",
   "execution_count": 35,
   "id": "c2639593",
   "metadata": {},
   "outputs": [],
   "source": [
    "l1=list(d1[\"ht\"])+list(d1[\"at\"])"
   ]
  },
  {
   "cell_type": "code",
   "execution_count": 42,
   "id": "5eead2c4",
   "metadata": {},
   "outputs": [],
   "source": [
    "l1=list(set(l1))"
   ]
  },
  {
   "cell_type": "code",
   "execution_count": 244,
   "id": "b17cfc6d",
   "metadata": {},
   "outputs": [],
   "source": [
    "t1=dict(zip(l1,[0 for i in l1]))#分数"
   ]
  },
  {
   "cell_type": "code",
   "execution_count": 245,
   "id": "8e3d0217",
   "metadata": {},
   "outputs": [],
   "source": [
    "data[\"year\"]=pd.to_datetime(data[\"date\"]).dt.year\n",
    "data[\"month\"]=pd.to_datetime(data[\"date\"]).dt.month"
   ]
  },
  {
   "cell_type": "code",
   "execution_count": 246,
   "id": "54673448",
   "metadata": {},
   "outputs": [],
   "source": [
    "g1=d1.groupby(['year','month'])"
   ]
  },
  {
   "cell_type": "code",
   "execution_count": 247,
   "id": "ddfce0e0",
   "metadata": {},
   "outputs": [],
   "source": [
    "r1=[]"
   ]
  },
  {
   "cell_type": "code",
   "execution_count": 248,
   "id": "eebc213b",
   "metadata": {},
   "outputs": [],
   "source": [
    "for i,j in g1:\n",
    "    for k in range(len(list(g1.get_group(i)['fthg']))):\n",
    "        if int(list(g1.get_group(i)['fthg'])[k])>int(list(g1.get_group(i)['ftag'])[k]):\n",
    "            t1[list(g1.get_group(i)['ht'])[k]]+=3\n",
    "        elif int(list(g1.get_group(i)['fthg'])[k])<int(list(g1.get_group(i)['ftag'])[k]): \n",
    "            t1[list(g1.get_group(i)['at'])[k]]+=3\n",
    "        else:\n",
    "            t1[list(g1.get_group(i)['ht'])[k]]+=1\n",
    "            t1[list(g1.get_group(i)['at'])[k]]+=1\n",
    "    for s in range(len(list(t1.items()))):\n",
    "        r1.append([str(i[0])+'-'+str(i[1])+'-'+'01',list(t1.items())[s][0],list(t1.items())[s][1]])"
   ]
  },
  {
   "cell_type": "code",
   "execution_count": 249,
   "id": "f26ad147",
   "metadata": {},
   "outputs": [],
   "source": [
    "r1=pd.DataFrame(r1)"
   ]
  },
  {
   "cell_type": "code",
   "execution_count": 255,
   "id": "f12884cb",
   "metadata": {},
   "outputs": [],
   "source": [
    "r1.columns=['date','name','value']"
   ]
  },
  {
   "cell_type": "code",
   "execution_count": 256,
   "id": "ba339f72",
   "metadata": {},
   "outputs": [],
   "source": [
    "r1.to_csv('C:/Users/25160/Desktop/1.csv', index=False)"
   ]
  },
  {
   "cell_type": "code",
   "execution_count": null,
   "id": "09f574d9",
   "metadata": {},
   "outputs": [],
   "source": []
  },
  {
   "cell_type": "code",
   "execution_count": null,
   "id": "d8a952b5",
   "metadata": {},
   "outputs": [],
   "source": []
  },
  {
   "cell_type": "markdown",
   "id": "13257d62",
   "metadata": {},
   "source": []
  }
 ],
 "metadata": {
  "kernelspec": {
   "display_name": "Python 3 (ipykernel)",
   "language": "python",
   "name": "python3"
  },
  "language_info": {
   "codemirror_mode": {
    "name": "ipython",
    "version": 3
   },
   "file_extension": ".py",
   "mimetype": "text/x-python",
   "name": "python",
   "nbconvert_exporter": "python",
   "pygments_lexer": "ipython3",
   "version": "3.9.13"
  }
 },
 "nbformat": 4,
 "nbformat_minor": 5
}
