{
 "cells": [
  {
   "cell_type": "code",
   "execution_count": null,
   "metadata": {},
   "outputs": [],
   "source": [
    "import pandas as pd\n",
    "from collections import Counter\n",
    "df=pd.read_csv('C:/Users/25433/Desktop/ginf.csv',encoding='ISO-8859-1')\n",
    "a=df['end_']\n",
    "print(Counter(a))\n",
    "import matplotlib.pyplot as plt\n",
    "Num = 10112\n",
    "data=[5390,2631,2091]\n",
    "labels=['min','mid','nax']\n",
    "colors=['red','yellow','blue']\n",
    "sizes = [data[0]/Num*100,data[1]/Num*100,data[2]/Num*100]\n",
    "expodes = (0,0,0)\n",
    "plt.pie(sizes,explode=expodes,labels=labels,shadow=True,colors=colors)\n",
    "plt.axis('equal')\n",
    "plt.savefig('picture/step3/fig3.png')\n",
    "plt.show()"
   ]
  }
 ],
 "metadata": {
  "kernelspec": {
   "display_name": "Python 3",
   "language": "python",
   "name": "python3"
  },
  "language_info": {
   "codemirror_mode": {
    "name": "ipython",
    "version": 3
   },
   "file_extension": ".py",
   "mimetype": "text/x-python",
   "name": "python",
   "nbconvert_exporter": "python",
   "pygments_lexer": "ipython3",
   "version": "3.8.5"
  }
 },
 "nbformat": 4,
 "nbformat_minor": 4
}
